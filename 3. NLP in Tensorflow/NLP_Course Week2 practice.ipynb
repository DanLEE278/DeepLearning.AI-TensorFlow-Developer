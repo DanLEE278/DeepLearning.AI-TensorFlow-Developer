{
 "cells": [
  {
   "cell_type": "code",
   "execution_count": 1,
   "metadata": {},
   "outputs": [],
   "source": [
    "import tensorflow as tf"
   ]
  },
  {
   "cell_type": "code",
   "execution_count": 2,
   "metadata": {},
   "outputs": [],
   "source": [
    "import tensorflow_datasets as tfds\n",
    "imdb, info = tfds.load(\"imdb_reviews\", with_info=True, as_supervised=True)"
   ]
  },
  {
   "cell_type": "code",
   "execution_count": 3,
   "metadata": {},
   "outputs": [
    {
     "name": "stdout",
     "output_type": "stream",
     "text": [
      "25000\n",
      "25000\n"
     ]
    }
   ],
   "source": [
    "import numpy as np\n",
    "\n",
    "train_data, test_data = imdb['train'], imdb['test']\n",
    "\n",
    "training_sentences = []\n",
    "training_labels = []\n",
    "\n",
    "testing_sentences = []\n",
    "testing_labels = []\n",
    "\n",
    "for s,l in train_data:\n",
    "    training_sentences.append(str(s.numpy()))\n",
    "    training_labels.append(l.numpy())\n",
    "    \n",
    "for s,l in test_data:\n",
    "    testing_sentences.append(str(s.numpy()))\n",
    "    testing_labels.append(l.numpy())\n",
    "    \n",
    "training_labels_final = np.array(training_labels)\n",
    "testing_labels_final = np.array(training_labels)\n",
    "\n",
    "print(len(training_labels_final))\n",
    "print(len(testing_labels_final))"
   ]
  },
  {
   "cell_type": "code",
   "execution_count": 4,
   "metadata": {},
   "outputs": [],
   "source": [
    "vocab_size = 10000\n",
    "embedding_dim = 16\n",
    "max_length = 120\n",
    "trunc_type = 'post'\n",
    "oov_tok = \"<OOV>\""
   ]
  },
  {
   "cell_type": "code",
   "execution_count": 5,
   "metadata": {},
   "outputs": [],
   "source": [
    "from tensorflow.keras.preprocessing.text import Tokenizer\n",
    "from tensorflow.keras.preprocessing.sequence import pad_sequences\n",
    "\n",
    "tokenizer = Tokenizer(num_words = vocab_size, oov_token = oov_tok)\n",
    "tokenizer.fit_on_texts(training_sentences) # sees what actually is the most popular word\n",
    "word_index = tokenizer.word_index\n",
    "sequences = tokenizer.texts_to_sequences(training_sentences)\n",
    "padded = pad_sequences(sequences, maxlen = max_length, truncating = trunc_type)\n",
    "\n",
    "testing_sequences = tokenizer.texts_to_sequences(testing_sentences)\n",
    "testing_padded = pad_sequences(testing_sequences, maxlen = max_length)"
   ]
  },
  {
   "cell_type": "code",
   "execution_count": 6,
   "metadata": {},
   "outputs": [
    {
     "name": "stdout",
     "output_type": "stream",
     "text": [
      "\n",
      "\n",
      "? ? b this was an absolutely terrible movie don't be <OOV> in by christopher walken or michael <OOV> both are great actors but this must simply be their worst role in history even their great acting could not redeem this movie's ridiculous storyline this movie is an early nineties us propaganda piece the most pathetic scenes were those when the <OOV> rebels were making their cases for <OOV> maria <OOV> <OOV> appeared phony and her pseudo love affair with walken was nothing but a pathetic emotional plug in a movie that was devoid of any real meaning i am disappointed that there are movies like this ruining <OOV> like christopher <OOV> good name i could barely sit through it\n",
      "\n",
      "\n",
      "b\"This was an absolutely terrible movie. Don't be lured in by Christopher Walken or Michael Ironside. Both are great actors, but this must simply be their worst role in history. Even their great acting could not redeem this movie's ridiculous storyline. This movie is an early nineties US propaganda piece. The most pathetic scenes were those when the Columbian rebels were making their cases for revolutions. Maria Conchita Alonso appeared phony, and her pseudo-love affair with Walken was nothing but a pathetic emotional plug in a movie that was devoid of any real meaning. I am disappointed that there are movies like this, ruining actor's like Christopher Walken's good name. I could barely sit through it.\"\n"
     ]
    }
   ],
   "source": [
    "# reverse the toeknized values back into keys(words)\n",
    "reverse_word_index = dict([(value, key) for (key, value) in word_index.items()])\n",
    "\n",
    "def decode_review(text):\n",
    "    return ' '.join([reverse_word_index.get(i, '?') for i in text])\n",
    "\n",
    "print(\"\\n\")\n",
    "print(decode_review(padded[0]))\n",
    "print(\"\\n\")\n",
    "print(training_sentences[0])\n"
   ]
  },
  {
   "cell_type": "code",
   "execution_count": 12,
   "metadata": {},
   "outputs": [
    {
     "name": "stdout",
     "output_type": "stream",
     "text": [
      "Model: \"sequential_1\"\n",
      "_________________________________________________________________\n",
      "Layer (type)                 Output Shape              Param #   \n",
      "=================================================================\n",
      "embedding_1 (Embedding)      (None, 120, 16)           160000    \n",
      "_________________________________________________________________\n",
      "flatten_1 (Flatten)          (None, 1920)              0         \n",
      "_________________________________________________________________\n",
      "dense_2 (Dense)              (None, 6)                 11526     \n",
      "_________________________________________________________________\n",
      "dense_3 (Dense)              (None, 1)                 7         \n",
      "=================================================================\n",
      "Total params: 171,533\n",
      "Trainable params: 171,533\n",
      "Non-trainable params: 0\n",
      "_________________________________________________________________\n"
     ]
    }
   ],
   "source": [
    "model = tf.keras.Sequential([\n",
    "    tf.keras.layers.Embedding(vocab_size, embedding_dim, input_length=max_length),\n",
    "    tf.keras.layers.Flatten(),\n",
    "    tf.keras.layers.Dense(6, activation='relu'),\n",
    "    tf.keras.layers.Dense(1, activation='sigmoid')\n",
    "])\n",
    "\n",
    "model.compile(loss='binary_crossentropy', optimizer='adam', metrics=['accuracy'])\n",
    "model.summary()"
   ]
  },
  {
   "cell_type": "code",
   "execution_count": 13,
   "metadata": {},
   "outputs": [
    {
     "name": "stdout",
     "output_type": "stream",
     "text": [
      "Train on 25000 samples, validate on 25000 samples\n",
      "Epoch 1/10\n",
      "25000/25000 [==============================] - 5s 215us/sample - loss: 0.5105 - accuracy: 0.7254 - val_loss: 1.2752 - val_accuracy: 0.5013\n",
      "Epoch 2/10\n",
      "25000/25000 [==============================] - 5s 183us/sample - loss: 0.2457 - accuracy: 0.9050 - val_loss: 1.4996 - val_accuracy: 0.4996\n",
      "Epoch 3/10\n",
      "25000/25000 [==============================] - 5s 181us/sample - loss: 0.0960 - accuracy: 0.9756 - val_loss: 1.9692 - val_accuracy: 0.5010\n",
      "Epoch 4/10\n",
      "25000/25000 [==============================] - 5s 181us/sample - loss: 0.0250 - accuracy: 0.9961 - val_loss: 2.4780 - val_accuracy: 0.5003\n",
      "Epoch 5/10\n",
      "25000/25000 [==============================] - 5s 182us/sample - loss: 0.0058 - accuracy: 0.9997 - val_loss: 2.9078 - val_accuracy: 0.4997\n",
      "Epoch 6/10\n",
      "25000/25000 [==============================] - 5s 183us/sample - loss: 0.0018 - accuracy: 1.0000 - val_loss: 3.2904 - val_accuracy: 0.5003\n",
      "Epoch 7/10\n",
      "25000/25000 [==============================] - 4s 179us/sample - loss: 8.6884e-04 - accuracy: 1.0000 - val_loss: 3.5762 - val_accuracy: 0.5004\n",
      "Epoch 8/10\n",
      "25000/25000 [==============================] - 5s 181us/sample - loss: 4.7501e-04 - accuracy: 1.0000 - val_loss: 3.8264 - val_accuracy: 0.5007\n",
      "Epoch 9/10\n",
      "25000/25000 [==============================] - 5s 182us/sample - loss: 2.7512e-04 - accuracy: 1.0000 - val_loss: 4.0571 - val_accuracy: 0.5003\n",
      "Epoch 10/10\n",
      "25000/25000 [==============================] - 4s 178us/sample - loss: 1.6720e-04 - accuracy: 1.0000 - val_loss: 4.2830 - val_accuracy: 0.5008\n"
     ]
    },
    {
     "data": {
      "text/plain": [
       "<tensorflow.python.keras.callbacks.History at 0x199ae4c0688>"
      ]
     },
     "execution_count": 13,
     "metadata": {},
     "output_type": "execute_result"
    }
   ],
   "source": [
    "num_epochs = 10\n",
    "model.fit(padded, training_labels_final, epochs = num_epochs, validation_data=(testing_padded, testing_labels_final), verbose=1)"
   ]
  },
  {
   "cell_type": "code",
   "execution_count": 17,
   "metadata": {},
   "outputs": [
    {
     "name": "stdout",
     "output_type": "stream",
     "text": [
      "(10000, 16)\n"
     ]
    }
   ],
   "source": [
    "e = model.layers[0]\n",
    "weights = e.get_weights()[0]\n",
    "print(weights.shape) # shape: (vocab_size, embedding_dim)"
   ]
  },
  {
   "cell_type": "code",
   "execution_count": 24,
   "metadata": {},
   "outputs": [],
   "source": [
    "import io\n",
    "\n",
    "out_v = io.open('vecs.tsv', 'w', encoding='utf-8')\n",
    "out_m = io.open('meta.tsv', 'w', encoding='utf-8')\n",
    "for word_num in range(1, vocab_size):\n",
    "    word = reverse_word_index[word_num]\n",
    "    embeddings = weight[word_num]\n",
    "    out_m.write(word + \"\\n\")\n",
    "    out_v.write('\\t'.join([str(x) for x in embeddings]) + \"\\n\")\n",
    "\n",
    "out_v.close()\n",
    "out_m.close()"
   ]
  },
  {
   "cell_type": "code",
   "execution_count": 1,
   "metadata": {},
   "outputs": [],
   "source": [
    "# sarcasm data"
   ]
  },
  {
   "cell_type": "code",
   "execution_count": 15,
   "metadata": {},
   "outputs": [],
   "source": [
    "import json\n",
    "import tensorflow as tf\n",
    "\n",
    "from tensorflow.keras.preprocessing.text import Tokenizer\n",
    "from tensorflow.keras.preprocessing.sequence import pad_sequences"
   ]
  },
  {
   "cell_type": "code",
   "execution_count": 16,
   "metadata": {},
   "outputs": [],
   "source": [
    "vocab_size = 10000\n",
    "embedding_dim = 16\n",
    "max_length = 100\n",
    "padding_type = 'post'\n",
    "trunc_type ='post'\n",
    "oov_tok = \"<OOV>\"\n",
    "training_size = 20000"
   ]
  },
  {
   "cell_type": "code",
   "execution_count": 17,
   "metadata": {},
   "outputs": [],
   "source": [
    "import urllib.request, json\n",
    "\n",
    "website = 'https://storage.googleapis.com/laurencemoroney-blog.appspot.com/sarcasm.json'\n",
    "\n",
    "with urllib.request.urlopen(website) as url:\n",
    "    data = json.loads(url.read().decode())\n",
    "    \n",
    "sentences = []\n",
    "labels = []\n",
    "\n",
    "for item in data:\n",
    "    sentences.append(item['headline'])\n",
    "    labels.append(item['is_sarcastic'])"
   ]
  },
  {
   "cell_type": "code",
   "execution_count": 18,
   "metadata": {
    "scrolled": false
   },
   "outputs": [
    {
     "name": "stdout",
     "output_type": "stream",
     "text": [
      "26709\n"
     ]
    }
   ],
   "source": [
    "print(len(sentences))\n",
    "\n",
    "training_sentences = sentences[:training_size]\n",
    "training_labels = labels[:training_size]\n",
    "testing_sentences = sentences[training_size:]\n",
    "testing_labels = labels[training_size:]"
   ]
  },
  {
   "cell_type": "code",
   "execution_count": 20,
   "metadata": {},
   "outputs": [],
   "source": [
    "tokenizer = Tokenizer(num_words=vocab_size, oov_token = oov_tok)\n",
    "# builiding word index\n",
    "tokenizer.fit_on_texts(training_sentences)\n",
    "word_index = tokenizer.word_index\n",
    "\n",
    "training_sequences = tokenizer.texts_to_sequences(training_sentences)\n",
    "training_padded = pad_sequences(training_sequences, maxlen=max_length, padding=padding_type, truncating=trunc_type)\n",
    "\n",
    "testing_sequences = tokenizer.texts_to_sequences(testing_sentences)\n",
    "testing_padded = pad_sequences(testing_sequences, maxlen=max_length, padding=padding_type, truncating=trunc_type)"
   ]
  },
  {
   "cell_type": "code",
   "execution_count": 21,
   "metadata": {},
   "outputs": [],
   "source": [
    "# Need this block to get it to work with TensorFlow 2.x\n",
    "import numpy as np\n",
    "training_padded = np.array(training_padded)\n",
    "training_labels = np.array(training_labels)\n",
    "testing_padded = np.array(testing_padded)\n",
    "testing_labels = np.array(testing_labels)"
   ]
  },
  {
   "cell_type": "code",
   "execution_count": 23,
   "metadata": {},
   "outputs": [
    {
     "name": "stdout",
     "output_type": "stream",
     "text": [
      "Model: \"sequential_1\"\n",
      "_________________________________________________________________\n",
      "Layer (type)                 Output Shape              Param #   \n",
      "=================================================================\n",
      "embedding_1 (Embedding)      (None, 100, 16)           160000    \n",
      "_________________________________________________________________\n",
      "global_average_pooling1d_1 ( (None, 16)                0         \n",
      "_________________________________________________________________\n",
      "dense_2 (Dense)              (None, 24)                408       \n",
      "_________________________________________________________________\n",
      "dense_3 (Dense)              (None, 1)                 25        \n",
      "=================================================================\n",
      "Total params: 160,433\n",
      "Trainable params: 160,433\n",
      "Non-trainable params: 0\n",
      "_________________________________________________________________\n"
     ]
    }
   ],
   "source": [
    "model = tf.keras.Sequential([\n",
    "    tf.keras.layers.Embedding(vocab_size, embedding_dim, input_length=max_length),\n",
    "    tf.keras.layers.GlobalAveragePooling1D(),\n",
    "    tf.keras.layers.Dense(24, activation='relu'),\n",
    "    tf.keras.layers.Dense(1, activation='sigmoid')\n",
    "])\n",
    "model.compile(loss='binary_crossentropy', optimizer='adam', metrics=['accuracy'])\n",
    "model.summary()"
   ]
  },
  {
   "cell_type": "code",
   "execution_count": 25,
   "metadata": {},
   "outputs": [
    {
     "name": "stdout",
     "output_type": "stream",
     "text": [
      "Train on 20000 samples, validate on 6709 samples\n",
      "Epoch 1/30\n",
      "20000/20000 [==============================] - 4s 204us/sample - loss: 0.6631 - accuracy: 0.5867 - val_loss: 0.5709 - val_accuracy: 0.6687\n",
      "Epoch 2/30\n",
      "20000/20000 [==============================] - 3s 129us/sample - loss: 0.4215 - accuracy: 0.8346 - val_loss: 0.3808 - val_accuracy: 0.8439\n",
      "Epoch 3/30\n",
      "20000/20000 [==============================] - 2s 122us/sample - loss: 0.3069 - accuracy: 0.8791 - val_loss: 0.3649 - val_accuracy: 0.8371\n",
      "Epoch 4/30\n",
      "20000/20000 [==============================] - 2s 122us/sample - loss: 0.2540 - accuracy: 0.9031 - val_loss: 0.3453 - val_accuracy: 0.8536\n",
      "Epoch 5/30\n",
      "20000/20000 [==============================] - 3s 130us/sample - loss: 0.2200 - accuracy: 0.9155 - val_loss: 0.3507 - val_accuracy: 0.8501\n",
      "Epoch 6/30\n",
      "20000/20000 [==============================] - 2s 122us/sample - loss: 0.1905 - accuracy: 0.9291 - val_loss: 0.3546 - val_accuracy: 0.8550\n",
      "Epoch 7/30\n",
      "20000/20000 [==============================] - 2s 122us/sample - loss: 0.1704 - accuracy: 0.9357 - val_loss: 0.3726 - val_accuracy: 0.8509\n",
      "Epoch 8/30\n",
      "20000/20000 [==============================] - 2s 122us/sample - loss: 0.1500 - accuracy: 0.9452 - val_loss: 0.3858 - val_accuracy: 0.8536\n",
      "Epoch 9/30\n",
      "20000/20000 [==============================] - 3s 130us/sample - loss: 0.1362 - accuracy: 0.9507 - val_loss: 0.4039 - val_accuracy: 0.8517\n",
      "Epoch 10/30\n",
      "20000/20000 [==============================] - 3s 145us/sample - loss: 0.1229 - accuracy: 0.9571 - val_loss: 0.4335 - val_accuracy: 0.8448\n",
      "Epoch 11/30\n",
      "20000/20000 [==============================] - 3s 141us/sample - loss: 0.1113 - accuracy: 0.9609 - val_loss: 0.5147 - val_accuracy: 0.8262\n",
      "Epoch 12/30\n",
      "20000/20000 [==============================] - 2s 125us/sample - loss: 0.1023 - accuracy: 0.9660 - val_loss: 0.4753 - val_accuracy: 0.8469\n",
      "Epoch 13/30\n",
      "20000/20000 [==============================] - 2s 115us/sample - loss: 0.0922 - accuracy: 0.9683 - val_loss: 0.5215 - val_accuracy: 0.8378\n",
      "Epoch 14/30\n",
      "20000/20000 [==============================] - 2s 114us/sample - loss: 0.0850 - accuracy: 0.9717 - val_loss: 0.5330 - val_accuracy: 0.8413\n",
      "Epoch 15/30\n",
      "20000/20000 [==============================] - 2s 110us/sample - loss: 0.0769 - accuracy: 0.9742 - val_loss: 0.5954 - val_accuracy: 0.8314\n",
      "Epoch 16/30\n",
      "20000/20000 [==============================] - 2s 110us/sample - loss: 0.0720 - accuracy: 0.9762 - val_loss: 0.5977 - val_accuracy: 0.8357\n",
      "Epoch 17/30\n",
      "20000/20000 [==============================] - 2s 111us/sample - loss: 0.0639 - accuracy: 0.9805 - val_loss: 0.6395 - val_accuracy: 0.8328\n",
      "Epoch 18/30\n",
      "20000/20000 [==============================] - 2s 110us/sample - loss: 0.0595 - accuracy: 0.9809 - val_loss: 0.6727 - val_accuracy: 0.8283\n",
      "Epoch 19/30\n",
      "20000/20000 [==============================] - 2s 110us/sample - loss: 0.0536 - accuracy: 0.9838 - val_loss: 0.7242 - val_accuracy: 0.8265\n",
      "Epoch 20/30\n",
      "20000/20000 [==============================] - 2s 110us/sample - loss: 0.0497 - accuracy: 0.9851 - val_loss: 0.7578 - val_accuracy: 0.8261\n",
      "Epoch 21/30\n",
      "20000/20000 [==============================] - 2s 110us/sample - loss: 0.0445 - accuracy: 0.9875 - val_loss: 0.7973 - val_accuracy: 0.8229\n",
      "Epoch 22/30\n",
      "20000/20000 [==============================] - 2s 109us/sample - loss: 0.0410 - accuracy: 0.9877 - val_loss: 0.8420 - val_accuracy: 0.8213\n",
      "Epoch 23/30\n",
      "20000/20000 [==============================] - 2s 109us/sample - loss: 0.0382 - accuracy: 0.9886 - val_loss: 0.8670 - val_accuracy: 0.8207\n",
      "Epoch 24/30\n",
      "20000/20000 [==============================] - 2s 110us/sample - loss: 0.0369 - accuracy: 0.9893 - val_loss: 0.9237 - val_accuracy: 0.8189\n",
      "Epoch 25/30\n",
      "20000/20000 [==============================] - 2s 110us/sample - loss: 0.0332 - accuracy: 0.9904 - val_loss: 0.9596 - val_accuracy: 0.8195\n",
      "Epoch 26/30\n",
      "20000/20000 [==============================] - 2s 110us/sample - loss: 0.0284 - accuracy: 0.9921 - val_loss: 1.0324 - val_accuracy: 0.8158\n",
      "Epoch 27/30\n",
      "20000/20000 [==============================] - 2s 110us/sample - loss: 0.0289 - accuracy: 0.9910 - val_loss: 1.0345 - val_accuracy: 0.8183\n",
      "Epoch 28/30\n",
      "20000/20000 [==============================] - 2s 110us/sample - loss: 0.0254 - accuracy: 0.9929 - val_loss: 1.0785 - val_accuracy: 0.8177\n",
      "Epoch 29/30\n",
      "20000/20000 [==============================] - 2s 111us/sample - loss: 0.0248 - accuracy: 0.9924 - val_loss: 1.1699 - val_accuracy: 0.8147\n",
      "Epoch 30/30\n",
      "20000/20000 [==============================] - 2s 110us/sample - loss: 0.0213 - accuracy: 0.9944 - val_loss: 1.1319 - val_accuracy: 0.8098\n"
     ]
    }
   ],
   "source": [
    "num_epochs = 30\n",
    "history = model.fit(training_padded, training_labels, epochs=num_epochs, validation_data=[testing_padded, testing_labels],verbose=1)"
   ]
  },
  {
   "cell_type": "code",
   "execution_count": 28,
   "metadata": {},
   "outputs": [
    {
     "data": {
      "image/png": "[encoded data removed]",
      "text/plain": [
       "<Figure size 432x288 with 1 Axes>"
      ]
     },
     "metadata": {
      "needs_background": "light"
     },
     "output_type": "display_data"
    },
    {
     "data": {
      "image/png": "[encoded data removed]",
      "text/plain": [
       "<Figure size 432x288 with 1 Axes>"
      ]
     },
     "metadata": {
      "needs_background": "light"
     },
     "output_type": "display_data"
    }
   ],
   "source": [
    "import matplotlib.pyplot as plt\n",
    "\n",
    "def plot_graphs(history, string):\n",
    "    plt.plot(history.history[string])\n",
    "    plt.plot(history.history['val_'+string])\n",
    "    plt.xlabel(\"Epochs\")\n",
    "    plt.ylabel(string)\n",
    "    plt.legend([string, 'val_'+string])\n",
    "    plt.show()\n",
    "\n",
    "plot_graphs(history, \"accuracy\")\n",
    "plot_graphs(history, \"loss\")"
   ]
  },
  {
   "cell_type": "code",
   "execution_count": 29,
   "metadata": {},
   "outputs": [
    {
     "name": "stdout",
     "output_type": "stream",
     "text": [
      "former <OOV> store clerk sues over secret 'black <OOV> for minority shoppers ? ? ? ? ? ? ? ? ? ? ? ? ? ? ? ? ? ? ? ? ? ? ? ? ? ? ? ? ? ? ? ? ? ? ? ? ? ? ? ? ? ? ? ? ? ? ? ? ? ? ? ? ? ? ? ? ? ? ? ? ? ? ? ? ? ? ? ? ? ? ? ? ? ? ? ? ? ? ? ? ? ? ? ? ? ? ? ?\n",
      "mom starting to fear son's web series closest thing she will have to grandchild\n",
      "1\n"
     ]
    }
   ],
   "source": [
    "reverse_word_index = dict([(value, key) for (key, value) in word_index.items()])\n",
    "\n",
    "def decode_sentence(text):\n",
    "    return ' '.join([reverse_word_index.get(i, '?') for i in text])\n",
    "\n",
    "print(decode_sentence(training_padded[0]))\n",
    "print(training_sentences[2])\n",
    "print(labels[2])"
   ]
  },
  {
   "cell_type": "code",
   "execution_count": 30,
   "metadata": {},
   "outputs": [
    {
     "name": "stdout",
     "output_type": "stream",
     "text": [
      "(10000, 16)\n"
     ]
    }
   ],
   "source": [
    "e = model.layers[0]\n",
    "weights = e.get_weights()[0]\n",
    "print(weights.shape) # shape: (vocab_size, embedding_dim)"
   ]
  },
  {
   "cell_type": "code",
   "execution_count": 34,
   "metadata": {},
   "outputs": [],
   "source": [
    "import io\n",
    "\n",
    "out_v = io.open('vecs.tsv', 'w', encoding='utf-8')\n",
    "out_m = io.open('meta.tsv', 'w', encoding='utf-8')\n",
    "for word_num in range(1, vocab_size):\n",
    "    word = reverse_word_index[word_num]\n",
    "    embeddings = weights[word_num]\n",
    "    out_m.write(word + \"\\n\")\n",
    "    out_v.write('\\t'.join([str(x) for x in embeddings]) + \"\\n\")\n",
    "out_v.close()\n",
    "out_m.close()"
   ]
  },
  {
   "cell_type": "code",
   "execution_count": 35,
   "metadata": {},
   "outputs": [],
   "source": [
    "try:\n",
    "    from google.colab import files\n",
    "except ImportError:\n",
    "    pass\n",
    "else:\n",
    "    files.download('vecs.tsv')\n",
    "    files.download('meta.tsv')"
   ]
  },
  {
   "cell_type": "code",
   "execution_count": 36,
   "metadata": {},
   "outputs": [
    {
     "name": "stdout",
     "output_type": "stream",
     "text": [
      "[[9.8439860e-01]\n",
      " [2.3935034e-05]]\n"
     ]
    }
   ],
   "source": [
    "sentence = [\"granny starting to fear spiders in the garden might be real\", \"game of thrones season finale showing this sunday night\"]\n",
    "sequences = tokenizer.texts_to_sequences(sentence)\n",
    "padded = pad_sequences(sequences, maxlen=max_length, padding=padding_type, truncating=trunc_type)\n",
    "print(model.predict(padded))"
   ]
  },
  {
   "cell_type": "code",
   "execution_count": null,
   "metadata": {},
   "outputs": [],
   "source": []
  }
 ],
 "metadata": {
  "kernelspec": {
   "display_name": "Python 3",
   "language": "python",
   "name": "python3"
  },
  "language_info": {
   "codemirror_mode": {
    "name": "ipython",
    "version": 3
   },
   "file_extension": ".py",
   "mimetype": "text/x-python",
   "name": "python",
   "nbconvert_exporter": "python",
   "pygments_lexer": "ipython3",
   "version": "3.8.0"
  }
 },
 "nbformat": 4,
 "nbformat_minor": 4
}
